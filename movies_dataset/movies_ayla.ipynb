{
 "cells": [
  {
   "cell_type": "code",
   "execution_count": null,
   "metadata": {},
   "outputs": [],
   "source": [
    "%matplotlib inline\n",
    "\n",
    "import pandas as pd\n",
    "import numpy as np\n",
    "import matplotlib.pyplot as plt\n",
    "\n",
    "credits_df = pd.read_pickle('data/credits.p')\n",
    "#print(credits_df.info(memory_usage='deep'))\n",
    "# print(credits_df.shape)\n",
    "#%timeit cast_credits_df = pd.read_pickle('data/cast_credits.p')\n",
    "cast_credits_df = pd.read_pickle('data/cast_credits.p')\n",
    "#print(cast_credits_df.head(2))\n",
    "print(cast_credits_df.columns)\n",
    "crew_credits_df = pd.read_pickle('data/crew_credits.p')\n",
    "#print(crew_credits_df.head(2))\n",
    "print(crew_credits_df.columns)\n",
    "#print(crew_credits_df.columns)\n",
    "keywords_df = pd.read_pickle('data/keywords.p')\n",
    "print(keywords_df.head(1))\n",
    "print(keywords_df.columns)\n",
    "links_df = pd.read_pickle('data/links.p')\n",
    "print(links_df.columns)\n",
    "links_small_df = pd.read_pickle('data/links_small.p')\n",
    "print(links_small_df.columns)\n",
    "movies_metadata_df = pd.read_pickle('data/movies_metadata.p')\n",
    "print(movies_metadata_df.columns)\n",
    "ratings_small_df = pd.read_pickle('data/ratings_small.p')\n",
    "print(ratings_small_df.columns)"
   ]
  },
  {
   "cell_type": "code",
   "execution_count": null,
   "metadata": {
    "scrolled": false
   },
   "outputs": [],
   "source": [
    "#print(movies_metadata_df[['title', 'original_language']])\n",
    "print(movies_metadata_df['original_language'].value_counts().nlargest(5))\n",
    "\n",
    "df = movies_metadata_df[movies_metadata_df.original_language != 'en']\n",
    "max = df['original_language'].value_counts().max()\n",
    "pd.DataFrame(df['original_language'].value_counts(), columns=['original_language']).plot.bar(figsize=(50,40));\n",
    "plt.xticks(fontsize=30);\n",
    "plt.yticks(np.arange(0, max, 50), fontsize=30);\n",
    "plt.grid();\n",
    "plt.figure();"
   ]
  },
  {
   "cell_type": "code",
   "execution_count": null,
   "metadata": {},
   "outputs": [],
   "source": [
    "sum_df = movies_metadata_df[['original_language', 'budget']].groupby('original_language').sum()\n",
    "print(sum_df.head(10))\n",
    "sum_df.plot()\n",
    "\n",
    "# factorize returns key, labets\n",
    "movies_metadata_df['original_language_index'] = pd.factorize(movies_metadata_df.original_language)[0]\n"
   ]
  },
  {
   "cell_type": "code",
   "execution_count": null,
   "metadata": {},
   "outputs": [],
   "source": [
    "print(cast_credits_df['gender'].value_counts())\n",
    "print(crew_credits_df['gender'].value_counts())\n",
    "# max = cast_credits_df['gender'].value_counts().max()\n",
    "# pd.DataFrame(cast_credits_df['gender'].value_counts(), columns=['gender']).plot.bar(figsize=(50,40));\n",
    "# plt.xticks(fontsize=30);\n",
    "# plt.yticks(fontsize=30);\n",
    "# #plt.yticks(np.arange(0, max), fontsize=30);\n",
    "# plt.grid();\n",
    "# plt.figure();\n",
    "\n"
   ]
  },
  {
   "cell_type": "code",
   "execution_count": null,
   "metadata": {},
   "outputs": [],
   "source": []
  }
 ],
 "metadata": {
  "kernelspec": {
   "display_name": "Python 3",
   "language": "python",
   "name": "python3"
  },
  "language_info": {
   "codemirror_mode": {
    "name": "ipython",
    "version": 3
   },
   "file_extension": ".py",
   "mimetype": "text/x-python",
   "name": "python",
   "nbconvert_exporter": "python",
   "pygments_lexer": "ipython3",
   "version": "3.6.3"
  }
 },
 "nbformat": 4,
 "nbformat_minor": 1
}
